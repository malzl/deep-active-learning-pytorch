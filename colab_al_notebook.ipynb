{
 "cells": [
  {
   "cell_type": "code",
   "execution_count": null,
   "metadata": {},
   "outputs": [],
   "source": [
    "# Step 1: Set up the environment\n",
    "!pip install torch torchvision\n",
    "!git clone https://github.com/acl21/deep-active-learning-pytorch.git\n",
    "\n",
    "\n",
    "# Step 2: Install additional dependencies\n",
    "!pip install -r requirements.txt\n",
    "\n",
    "# Step 3: (Optional) Upload custom configuration files\n",
    "from google.colab import files\n",
    "import os\n",
    "\n",
    "uploaded = files.upload()\n",
    "for fn in uploaded.keys():\n",
    "    os.rename(fn, os.path.join(\"configs/cifar10/al\", fn))\n",
    "\n",
    "# Step 4: (Optional) Mount Google Drive for saving models and logs\n",
    "from google.colab import drive\n",
    "drive.mount('/content/drive')\n",
    "\n"
   ]
  },
  {
   "cell_type": "code",
   "execution_count": null,
   "metadata": {},
   "outputs": [],
   "source": [
    "# Step 5: Run the training and active learning scripts\n",
    "\n",
    "%cd deep-active-learning-pytorch\n"
   ]
  },
  {
   "cell_type": "code",
   "execution_count": null,
   "metadata": {},
   "outputs": [],
   "source": [
    "\n",
    "# Example: Train with active learning\n",
    "!CUDA_VISIBLE_DEVICES=0 python tools/train_al.py --cfg=configs/cifar10/al/YOUR_CONFIG_FILE.yaml --al=dbal --exp-name=RESNET18_1\n",
    "\n",
    "# Example: Ensemble active learning\n",
    "!CUDA_VISIBLE_DEVICES=0 python tools/ensemble_al.py --cfg=configs/cifar10/al/YOUR_CONFIG_FILE.yaml --exp-name=YOUR_EXPERIMENT_NAME\n",
    "\n",
    "# Example: Passive learning\n",
    "!CUDA_VISIBLE_DEVICES=0 python tools/train.py --cfg=configs/cifar10/train/YOUR_CONFIG_FILE.yaml --exp-name=YOUR_EXPERIMENT_NAME\n",
    "\n",
    "# Example: Ensemble passive learning\n",
    "!CUDA_VISIBLE_DEVICES=0 python tools/ensemble_train.py --cfg=configs/cifar10/train/YOUR_CONFIG_FILE.yaml --exp-name=YOUR_EXPERIMENT_NAME\n",
    "\n",
    "# Example: Evaluate a specific model\n",
    "!CUDA_VISIBLE_DEVICES=0 python tools/test_model.py --cfg=configs/cifar10/evaluate/YOUR_CONFIG_FILE.yaml\n"
   ]
  }
 ],
 "metadata": {
  "language_info": {
   "name": "python"
  }
 },
 "nbformat": 4,
 "nbformat_minor": 2
}
